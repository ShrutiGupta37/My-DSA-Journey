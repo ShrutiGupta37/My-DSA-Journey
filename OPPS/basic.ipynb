{
 "cells": [
  {
   "cell_type": "markdown",
   "id": "9449e109",
   "metadata": {},
   "source": [
    "# OOPS in Python"
   ]
  },
  {
   "cell_type": "markdown",
   "id": "65c688fb",
   "metadata": {},
   "source": [
    "- To map with real worl scenarios, we started using objects in code.\n",
    "- This is called object oriented programming\n",
    "- OOPS is used to reduce code redundancy and increase reusability, making programs more organized, secure, and easier to maintain."
   ]
  },
  {
   "cell_type": "markdown",
   "id": "53da5266",
   "metadata": {},
   "source": [
    "- Class → A blueprint or template that defines properties and behaviors.\n",
    "\n",
    "- Object → An instance of a class (real-world entity created from the class).\n",
    "\n",
    "- Example:\n",
    "\n",
    "Class = Car (defines color, speed, model)\n",
    "\n",
    "Object = Honda, BMW (actual cars)."
   ]
  },
  {
   "cell_type": "code",
   "execution_count": 3,
   "id": "f6495894",
   "metadata": {},
   "outputs": [
    {
     "name": "stdout",
     "output_type": "stream",
     "text": [
      "<__main__.Student object at 0x0000023E6D683C10>\n",
      "Shruti\n",
      "Shruti\n"
     ]
    }
   ],
   "source": [
    "#creating class\n",
    "class Student:\n",
    "    name=\"Shruti\"\n",
    "#creating objects (instance)\n",
    "s1=Student()\n",
    "print(s1) #s1 is object\n",
    "print(s1.name)\n",
    "\n",
    "s2=Student()\n",
    "print(s2.name)\n"
   ]
  },
  {
   "cell_type": "markdown",
   "id": "72aec88c",
   "metadata": {},
   "source": [
    "### Rules for Creating a Class\n",
    "- Use the keyword class followed by the class name.\n",
    "- Class name should start with a capital letter (good practice).\n",
    "- Define attributes (variables) and methods (functions) inside it.\n",
    "### Rules for Creating an Object\n",
    "- An object is created using the class name followed by parentheses.\n",
    "- Each object has its own copy of data, but shares methods of the class.\n",
    "- We can create multiple objects from one class."
   ]
  },
  {
   "cell_type": "code",
   "execution_count": 5,
   "id": "db27b1ed",
   "metadata": {},
   "outputs": [
    {
     "name": "stdout",
     "output_type": "stream",
     "text": [
      "Blue\n",
      "Mercedes\n"
     ]
    }
   ],
   "source": [
    "class Car:\n",
    "    color=\"Blue\"\n",
    "    brand=\"Mercedes\"\n",
    "\n",
    "car1=Car()\n",
    "print(car1.color)\n",
    "print(car1.brand)"
   ]
  },
  {
   "cell_type": "markdown",
   "id": "d278861a",
   "metadata": {},
   "source": [
    "### Constructor in Python\n",
    "- A special method used to initialize objects.\n",
    "-  __init__ function : All classes have a function called __init__(), which is always executed when the object is being initiated.\n",
    "- It runs automatically when an object is created."
   ]
  },
  {
   "cell_type": "code",
   "execution_count": 7,
   "id": "4f672c3a",
   "metadata": {},
   "outputs": [
    {
     "name": "stdout",
     "output_type": "stream",
     "text": [
      "adding new student in database..\n",
      "Nitu\n"
     ]
    }
   ],
   "source": [
    "class Student:\n",
    "    name=\"shruti\"\n",
    "    def __init__(self,fullname):\n",
    "        self.name=fullname\n",
    "        print(\"adding new student in database..\")\n",
    "s1=Student(\"Nitu\")\n",
    "print(s1.name)\n",
    "\n",
    "#the self parameter is a reference to the current instance of the class and is used to access variables that belongs to the class"
   ]
  },
  {
   "cell_type": "code",
   "execution_count": null,
   "id": "7677902a",
   "metadata": {},
   "outputs": [
    {
     "name": "stdout",
     "output_type": "stream",
     "text": [
      "Shruti 95\n",
      "Nisha 89\n"
     ]
    }
   ],
   "source": [
    "class Student:\n",
    "    def __init__(self, name, marks):\n",
    "        self.name = name   # 'self' refers to the object\n",
    "        self.marks = marks\n",
    "\n",
    "\n",
    "s1 = Student(\"Shruti\", 95)  # self → s1\n",
    "s2 = Student(\"Nisha\", 89)  # self → s2\n",
    "print(s1.name, s1.marks)\n",
    "print(s2.name, s2.marks)\n"
   ]
  },
  {
   "cell_type": "markdown",
   "id": "b122199c",
   "metadata": {},
   "source": [
    "### Types of Constructors in Python\n",
    "1. Default Constructor\n",
    "- No parameters (except self)\n",
    "- Initializes objects with default values"
   ]
  },
  {
   "cell_type": "code",
   "execution_count": 19,
   "id": "a3f6b51f",
   "metadata": {},
   "outputs": [
    {
     "name": "stdout",
     "output_type": "stream",
     "text": [
      "Unknown\n"
     ]
    }
   ],
   "source": [
    "class Student:\n",
    "    def __init__(self):      # Default Constructor\n",
    "        self.name = \"Unknown\"\n",
    "s1 = Student()\n",
    "print(s1.name)   \n"
   ]
  },
  {
   "cell_type": "markdown",
   "id": "0690fed0",
   "metadata": {},
   "source": [
    "2. Parameterized Constructor\n",
    "- Takes arguments to initialize object values"
   ]
  },
  {
   "cell_type": "code",
   "execution_count": 20,
   "id": "b4613801",
   "metadata": {},
   "outputs": [
    {
     "name": "stdout",
     "output_type": "stream",
     "text": [
      "Shruti 95\n"
     ]
    }
   ],
   "source": [
    "class Student:\n",
    "    def __init__(self, name, marks):   # Parameterized Constructor\n",
    "        self.name = name\n",
    "        self.marks = marks\n",
    "s1 = Student(\"Shruti\", 95)\n",
    "print(s1.name, s1.marks)  "
   ]
  },
  {
   "cell_type": "code",
   "execution_count": null,
   "id": "3a843ff7",
   "metadata": {},
   "outputs": [],
   "source": []
  }
 ],
 "metadata": {
  "kernelspec": {
   "display_name": "Our_first_project",
   "language": "python",
   "name": "python3"
  },
  "language_info": {
   "codemirror_mode": {
    "name": "ipython",
    "version": 3
   },
   "file_extension": ".py",
   "mimetype": "text/x-python",
   "name": "python",
   "nbconvert_exporter": "python",
   "pygments_lexer": "ipython3",
   "version": "3.10.13"
  }
 },
 "nbformat": 4,
 "nbformat_minor": 5
}
