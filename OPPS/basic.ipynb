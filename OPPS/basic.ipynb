{
 "cells": [
  {
   "cell_type": "markdown",
   "id": "9449e109",
   "metadata": {},
   "source": [
    "# OOPS in Python"
   ]
  },
  {
   "cell_type": "markdown",
   "id": "65c688fb",
   "metadata": {},
   "source": [
    "- To map with real worl scenarios, we started using objects in code.\n",
    "- This is called object oriented programming\n",
    "- OOPS is used to reduce code redundancy and increase reusability, making programs more organized, secure, and easier to maintain."
   ]
  },
  {
   "cell_type": "markdown",
   "id": "53da5266",
   "metadata": {},
   "source": [
    "- Class → A blueprint or template that defines properties and behaviors.\n",
    "\n",
    "- Object → An instance of a class (real-world entity created from the class).\n",
    "\n",
    "- Example:\n",
    "\n",
    "Class = Car (defines color, speed, model)\n",
    "\n",
    "Object = Honda, BMW (actual cars)."
   ]
  },
  {
   "cell_type": "code",
   "execution_count": 3,
   "id": "f6495894",
   "metadata": {},
   "outputs": [
    {
     "name": "stdout",
     "output_type": "stream",
     "text": [
      "<__main__.Student object at 0x0000023E6D683C10>\n",
      "Shruti\n",
      "Shruti\n"
     ]
    }
   ],
   "source": [
    "#creating class\n",
    "class Student:\n",
    "    name=\"Shruti\"\n",
    "#creating objects (instance)\n",
    "s1=Student()\n",
    "print(s1) #s1 is object\n",
    "print(s1.name)\n",
    "\n",
    "s2=Student()\n",
    "print(s2.name)\n"
   ]
  },
  {
   "cell_type": "markdown",
   "id": "72aec88c",
   "metadata": {},
   "source": [
    "### Rules for Creating a Class\n",
    "- Use the keyword class followed by the class name.\n",
    "- Class name should start with a capital letter (good practice).\n",
    "- Define attributes (variables) and methods (functions) inside it.\n",
    "### Rules for Creating an Object\n",
    "- An object is created using the class name followed by parentheses.\n",
    "- Each object has its own copy of data, but shares methods of the class.\n",
    "- We can create multiple objects from one class."
   ]
  },
  {
   "cell_type": "code",
   "execution_count": 5,
   "id": "db27b1ed",
   "metadata": {},
   "outputs": [
    {
     "name": "stdout",
     "output_type": "stream",
     "text": [
      "Blue\n",
      "Mercedes\n"
     ]
    }
   ],
   "source": [
    "class Car:\n",
    "    color=\"Blue\"\n",
    "    brand=\"Mercedes\"\n",
    "\n",
    "car1=Car()\n",
    "print(car1.color)\n",
    "print(car1.brand)"
   ]
  },
  {
   "cell_type": "markdown",
   "id": "d278861a",
   "metadata": {},
   "source": [
    "### Constructor in Python\n",
    "- A special method used to initialize objects.\n",
    "-  __init__ function : All classes have a function called __init__(), which is always executed when the object is being initiated.\n",
    "- It runs automatically when an object is created."
   ]
  },
  {
   "cell_type": "code",
   "execution_count": 7,
   "id": "4f672c3a",
   "metadata": {},
   "outputs": [
    {
     "name": "stdout",
     "output_type": "stream",
     "text": [
      "adding new student in database..\n",
      "Nitu\n"
     ]
    }
   ],
   "source": [
    "class Student:\n",
    "    name=\"shruti\"\n",
    "    def __init__(self,fullname):\n",
    "        self.name=fullname\n",
    "        print(\"adding new student in database..\")\n",
    "s1=Student(\"Nitu\")\n",
    "print(s1.name)\n",
    "\n",
    "#the self parameter is a reference to the current instance of the class and is used to access variables that belongs to the class"
   ]
  },
  {
   "cell_type": "code",
   "execution_count": null,
   "id": "7677902a",
   "metadata": {},
   "outputs": [
    {
     "name": "stdout",
     "output_type": "stream",
     "text": [
      "Shruti 95\n",
      "Nisha 89\n"
     ]
    }
   ],
   "source": [
    "class Student:\n",
    "    def __init__(self, name, marks):\n",
    "        self.name = name   # 'self' refers to the object\n",
    "        self.marks = marks\n",
    "\n",
    "\n",
    "s1 = Student(\"Shruti\", 95)  # self → s1\n",
    "s2 = Student(\"Nisha\", 89)  # self → s2\n",
    "print(s1.name, s1.marks)\n",
    "print(s2.name, s2.marks)\n"
   ]
  },
  {
   "cell_type": "markdown",
   "id": "b122199c",
   "metadata": {},
   "source": [
    "### Types of Constructors in Python\n",
    "1. Default Constructor\n",
    "- No parameters (except self)\n",
    "- Initializes objects with default values"
   ]
  },
  {
   "cell_type": "code",
   "execution_count": 19,
   "id": "a3f6b51f",
   "metadata": {},
   "outputs": [
    {
     "name": "stdout",
     "output_type": "stream",
     "text": [
      "Unknown\n"
     ]
    }
   ],
   "source": [
    "class Student:\n",
    "    def __init__(self):      # Default Constructor\n",
    "        self.name = \"Unknown\"\n",
    "s1 = Student()\n",
    "print(s1.name)   \n"
   ]
  },
  {
   "cell_type": "markdown",
   "id": "0690fed0",
   "metadata": {},
   "source": [
    "2. Parameterized Constructor\n",
    "- Takes arguments to initialize object values"
   ]
  },
  {
   "cell_type": "code",
   "execution_count": 20,
   "id": "b4613801",
   "metadata": {},
   "outputs": [
    {
     "name": "stdout",
     "output_type": "stream",
     "text": [
      "Shruti 95\n"
     ]
    }
   ],
   "source": [
    "class Student:\n",
    "    def __init__(self, name, marks):   # Parameterized Constructor\n",
    "        self.name = name\n",
    "        self.marks = marks\n",
    "s1 = Student(\"Shruti\", 95)\n",
    "print(s1.name, s1.marks)  "
   ]
  },
  {
   "cell_type": "code",
   "execution_count": null,
   "id": "3a843ff7",
   "metadata": {},
   "outputs": [
    {
     "name": "stdout",
     "output_type": "stream",
     "text": [
      "Nitu\n"
     ]
    }
   ],
   "source": [
    "class Student:\n",
    "    name=\"Shruti\" #class attr\n",
    "    def __init__(self,name,marks):\n",
    "        self.name=name #obj attr\n",
    "        self.marks=marks\n",
    "\n",
    "s1=Student(\"Nitu\",87)\n",
    "print(s1.name)\n",
    "#obj attr>class attr"
   ]
  },
  {
   "cell_type": "markdown",
   "id": "2a6c5700",
   "metadata": {},
   "source": [
    "NOTE : Class is collection of two thing - Attribute and Methods\n",
    "- Attributes are like the data or properties of an object.\n",
    "- Think of a class like a blueprint for a car. Attributes would be things like color, speed, model.\n",
    "- Methods are functions defined inside a class that describe the behavior of the object—what it can do.\n",
    "- methods would be things like drive(), brake(), honk()"
   ]
  },
  {
   "cell_type": "markdown",
   "id": "44b33f38",
   "metadata": {},
   "source": [
    "### METHODS\n",
    "methods are funtions that belongs to objects"
   ]
  },
  {
   "cell_type": "code",
   "execution_count": 5,
   "id": "7a8acc32",
   "metadata": {},
   "outputs": [
    {
     "name": "stdout",
     "output_type": "stream",
     "text": [
      "welcome back\n"
     ]
    }
   ],
   "source": [
    "class Student:\n",
    "    name = \"Shruti\"  # Class attribute (shared across all instances)\n",
    "\n",
    "    def __init__(self, name, marks):\n",
    "        self.name = name      # Instance attribute\n",
    "        self.marks = marks    # Instance attribute\n",
    "\n",
    "    def welcome(self):\n",
    "        print(\"welcome back\")\n",
    "\n",
    "\n",
    "\n",
    "s1=Student(\"Ram\",78)\n",
    "s1.welcome() #calling method\n"
   ]
  },
  {
   "cell_type": "code",
   "execution_count": 7,
   "id": "812ff08b",
   "metadata": {},
   "outputs": [
    {
     "name": "stdout",
     "output_type": "stream",
     "text": [
      "welcome back Ram\n"
     ]
    },
    {
     "data": {
      "text/plain": [
       "78"
      ]
     },
     "execution_count": 7,
     "metadata": {},
     "output_type": "execute_result"
    }
   ],
   "source": [
    "class Student:\n",
    "    name = \"Shruti\" \n",
    "\n",
    "    def __init__(self, name, marks):\n",
    "        self.name = name      \n",
    "        self.marks = marks    \n",
    "\n",
    "    def welcome(self):\n",
    "        print(\"welcome back\",self.name)\n",
    "\n",
    "    def getmarks(self):\n",
    "        # print(self.marks)\n",
    "        return self.marks\n",
    "\n",
    "\n",
    "\n",
    "s1=Student(\"Ram\",78)\n",
    "s1.welcome() \n",
    "s1.getmarks()"
   ]
  },
  {
   "cell_type": "markdown",
   "id": "155eeb53",
   "metadata": {},
   "source": [
    "### Practice Problem\n",
    "Create a Student class that takes name and marks of 3 subjects as arguments in constructor. Then create a method to print the average\n"
   ]
  },
  {
   "cell_type": "code",
   "execution_count": 12,
   "id": "c4048e55",
   "metadata": {},
   "outputs": [
    {
     "name": "stdout",
     "output_type": "stream",
     "text": [
      "Hi, Shruti your avg marks = 20.0\n"
     ]
    }
   ],
   "source": [
    "class Student:\n",
    "    def __init__(self,name,marks):\n",
    "        self.name=name\n",
    "        self.marks=marks\n",
    "\n",
    "    def Avg(self):\n",
    "        print(\"Hi,\",self.name,\"your avg marks =\",  sum(self.marks)/3)\n",
    "       \n",
    "        \n",
    "s1=Student(\"Shruti\",[10,20,30])  \n",
    "s1.Avg() \n",
    "\n",
    "\n"
   ]
  },
  {
   "cell_type": "markdown",
   "id": "f706aa86",
   "metadata": {},
   "source": [
    "### Static Metod\n",
    "Methods that don't use the self parameter (work at class level)\n",
    "\n",
    "### Note:\n",
    "Decorators allow us to wrap another function in order to extend the behaviour of the wrapped function, without permanently modifying it\n",
    "Or <br>\n",
    "A decorator in Python is just a function that adds extra features to another function without changing its actual code."
   ]
  },
  {
   "cell_type": "code",
   "execution_count": null,
   "id": "d8175f8d",
   "metadata": {},
   "outputs": [
    {
     "name": "stdout",
     "output_type": "stream",
     "text": [
      "Hello\n"
     ]
    }
   ],
   "source": [
    "class Student:\n",
    "    def __init__(self,name,marks):\n",
    "        self.name=name\n",
    "        self.marks=marks\n",
    "\n",
    "    @staticmethod   #decorator\n",
    "    def hello( ):\n",
    "        print(\"Hello\")\n",
    "       \n",
    "        \n",
    "s1=Student(\"Shruti\",[10,20,30])  \n",
    "s1.hello() \n",
    "\n",
    "\n"
   ]
  },
  {
   "cell_type": "markdown",
   "id": "0e72bc8a",
   "metadata": {},
   "source": [
    "### Four main OOPs Concept\n",
    "1) Abstraction\n",
    "2) Encapsulation\n",
    "3) Inheritance\n",
    "4) Polymorphism"
   ]
  },
  {
   "cell_type": "markdown",
   "id": "c6d8169e",
   "metadata": {},
   "source": [
    "1) Abstraction\n",
    "- Show only essential details, hide the internal working.\n",
    "- Achieved using abstract classes or methods."
   ]
  },
  {
   "cell_type": "code",
   "execution_count": 17,
   "id": "dfd6adff",
   "metadata": {},
   "outputs": [
    {
     "name": "stdout",
     "output_type": "stream",
     "text": [
      "Car Started...\n"
     ]
    }
   ],
   "source": [
    "class Car:\n",
    "    def __init__(self):\n",
    "        self.acc=False\n",
    "        self.brk=False\n",
    "        self.clutch=False\n",
    "\n",
    "    def start(self):\n",
    "        self.clutch=True\n",
    "        self.acc=True\n",
    "        print(\"Car Started...\")\n",
    "\n",
    "car1=Car()\n",
    "car1.start()\n",
    "\n"
   ]
  },
  {
   "cell_type": "markdown",
   "id": "edefdbb4",
   "metadata": {},
   "source": [
    "2. Encapsulation\n",
    "- Wrapping data and functions into a single unit (object)."
   ]
  },
  {
   "cell_type": "markdown",
   "id": "3046ca61",
   "metadata": {},
   "source": [
    "### Practice\n",
    "Create Account class with 2 attributes - balance and account no.\n",
    "Create methods for debit, credit and printing the balance"
   ]
  },
  {
   "cell_type": "code",
   "execution_count": 33,
   "id": "e104c609",
   "metadata": {},
   "outputs": [
    {
     "name": "stdout",
     "output_type": "stream",
     "text": [
      "Amount debited:  100\n",
      "Amount credited:  200\n",
      "\n",
      "Account number :  2005\n",
      "Total Balance:  2100\n"
     ]
    }
   ],
   "source": [
    "class Account:\n",
    "    def __init__(self):\n",
    "        self.balance=2000\n",
    "        self.acc_no=2005\n",
    "\n",
    " \n",
    "    def debit(self,deb):\n",
    "        self.balance=self.balance-deb\n",
    "        print(\"Amount debited: \",deb)\n",
    "     \n",
    "    def credit(self,cred):\n",
    "        self.balance=self.balance+cred\n",
    "        print(\"Amount credited: \",cred)\n",
    "       \n",
    "    def show_balance(self):\n",
    "        print(\"\\nAccount number : \",self.acc_no)\n",
    "        print(\"Total Balance: \",self.balance)\n",
    "\n",
    "\n",
    "\n",
    "a1=Account()\n",
    "a1.debit(100)\n",
    "a1.credit(200)\n",
    "a1.show_balance()\n"
   ]
  }
 ],
 "metadata": {
  "kernelspec": {
   "display_name": "Python 3",
   "language": "python",
   "name": "python3"
  },
  "language_info": {
   "codemirror_mode": {
    "name": "ipython",
    "version": 3
   },
   "file_extension": ".py",
   "mimetype": "text/x-python",
   "name": "python",
   "nbconvert_exporter": "python",
   "pygments_lexer": "ipython3",
   "version": "3.10.0rc2"
  }
 },
 "nbformat": 4,
 "nbformat_minor": 5
}
