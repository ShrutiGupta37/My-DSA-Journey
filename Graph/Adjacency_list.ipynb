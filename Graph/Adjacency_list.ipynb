{
 "cells": [
  {
   "cell_type": "markdown",
   "id": "3d3ba0a0",
   "metadata": {},
   "source": [
    "### There are two ways to store sets of vertices and sets of edges.One of the method is--ADJACENCY MATRIX"
   ]
  },
  {
   "cell_type": "code",
   "execution_count": 2,
   "id": "f7b7001e",
   "metadata": {},
   "outputs": [
    {
     "name": "stdout",
     "output_type": "stream",
     "text": [
      "{1: [2, 3], 2: [1, 3, 4], 3: [1, 2, 4], 4: [2, 3]}\n"
     ]
    }
   ],
   "source": [
    "# How to create adjacency list---\n",
    "\n",
    "graph={1:[2,3],\n",
    "    2:[1,3,4],\n",
    "    3:[1,2,4],\n",
    "    4:[2,3]}\n",
    "print(graph)\n"
   ]
  },
  {
   "cell_type": "code",
   "execution_count": 3,
   "id": "c539faa5",
   "metadata": {},
   "outputs": [
    {
     "name": "stdout",
     "output_type": "stream",
     "text": [
      "degree of vertex 1 : 2\n",
      "degree of vertex 2 : 3\n",
      "degree of vertex 3 : 3\n",
      "degree of vertex 4 : 2\n"
     ]
    }
   ],
   "source": [
    "#Find degree of each vertex (undirected graph)\n",
    "\n",
    "graph={1:[2,3],\n",
    "    2:[1,3,4],\n",
    "    3:[1,2,4],\n",
    "    4:[2,3]}\n",
    "for i in graph:\n",
    "    print(\"degree of vertex\",i,\":\",len(graph[i]))\n",
    "\n",
    "    "
   ]
  },
  {
   "cell_type": "code",
   "execution_count": null,
   "id": "5dc1e04b",
   "metadata": {},
   "outputs": [
    {
     "name": "stdout",
     "output_type": "stream",
     "text": [
      "degree of vertex 1 : 2\n",
      "degree of vertex 2 : 4\n",
      "degree of vertex 3 : 3\n",
      "degree of vertex 4 : 2\n"
     ]
    }
   ],
   "source": [
    "# but if there is a self loop then we have to update the above code\n",
    "\n",
    "graph={1:[2,3],\n",
    "    2:[1,2,4], #vertex 2 has a self loop\n",
    "    3:[1,2,4],\n",
    "    4:[2,3]}\n",
    "\n",
    "for i in graph:\n",
    "    degree=0\n",
    "    for j in graph[i]:\n",
    "        if i==j:\n",
    "            degree=degree+2\n",
    "        else:\n",
    "            degree=degree+1\n",
    "    print(\"degree of vertex\",i,\":\",degree)\n",
    "\n",
    "    #now this is a perfect code for finding degree of a vertex\n"
   ]
  },
  {
   "cell_type": "code",
   "execution_count": null,
   "id": "2701c19a",
   "metadata": {},
   "outputs": [
    {
     "name": "stdout",
     "output_type": "stream",
     "text": [
      "True\n"
     ]
    }
   ],
   "source": [
    "# Check if two nodes are connected\n",
    "\n",
    "#code is perfect for the undirected graph\n",
    "# graph={1:[2,3],\n",
    "#     2:[1,3,4], \n",
    "#     3:[1,2,4],\n",
    "#     4:[2,3]}\n",
    "\n",
    "# now lets check for the directed graph\n",
    "\n",
    "graph = {\n",
    "    1: [2],\n",
    "    2: [3],\n",
    "    3: [1, 4],\n",
    "    4: []\n",
    "}\n",
    "\n",
    "def connected(u,v):\n",
    "    return v in graph[u]\n",
    "print(connected(2,3))\n",
    "\n",
    "# working perfectly for both the graphs"
   ]
  }
 ],
 "metadata": {
  "kernelspec": {
   "display_name": "Our_first_project",
   "language": "python",
   "name": "python3"
  },
  "language_info": {
   "codemirror_mode": {
    "name": "ipython",
    "version": 3
   },
   "file_extension": ".py",
   "mimetype": "text/x-python",
   "name": "python",
   "nbconvert_exporter": "python",
   "pygments_lexer": "ipython3",
   "version": "3.10.13"
  }
 },
 "nbformat": 4,
 "nbformat_minor": 5
}
