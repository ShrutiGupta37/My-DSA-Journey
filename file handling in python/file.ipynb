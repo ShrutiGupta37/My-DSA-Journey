{
 "cells": [
  {
   "cell_type": "markdown",
   "id": "610a3fbf",
   "metadata": {},
   "source": [
    "File handling in Python allows us to create, read, write, and delete files.\n",
    "It uses the built-in open() function."
   ]
  },
  {
   "cell_type": "code",
   "execution_count": 17,
   "id": "5445354a",
   "metadata": {},
   "outputs": [
    {
     "name": "stdout",
     "output_type": "stream",
     "text": [
      "Hi, My name is Shruti\n",
      "I love coding\n",
      "<class 'str'>\n"
     ]
    }
   ],
   "source": [
    "f=open(\"input1.txt\",\"r\")\n",
    "data=f.read()\n",
    "print(data)\n",
    "print(type(data))\n",
    "f.close()\n"
   ]
  },
  {
   "cell_type": "markdown",
   "id": "5f87fabd",
   "metadata": {},
   "source": [
    "Here:\n",
    "\n",
    "input1.txt → name of the file\n",
    "mode → action to perform\n",
    "Common Modes:\n",
    "\n",
    "- \"r\" → open for reading (dedefalut mode)\n",
    "- \"w\" → Write – creates new file / overwrites if exists\n",
    "- \"a\" → Append – adds content at the end\n",
    "- \"x\" → Create a new file and open it for writing\n",
    "- \"b\" → Binary mode (e.g., images, PDFs)\n",
    "- \"t\" → Text mode (default)\n",
    "- \"+\" → open a disk file for updating (reading and writing)"
   ]
  },
  {
   "cell_type": "code",
   "execution_count": 18,
   "id": "3f37c707",
   "metadata": {},
   "outputs": [
    {
     "name": "stdout",
     "output_type": "stream",
     "text": [
      "Hi, My name is Shruti\n",
      "I love coding\n",
      "<class 'str'>\n"
     ]
    }
   ],
   "source": [
    "f=open(\"input1.txt\",\"rt\")\n",
    "data=f.read()\n",
    "print(data)\n",
    "print(type(data))\n",
    "f.close()\n"
   ]
  },
  {
   "cell_type": "code",
   "execution_count": null,
   "id": "3a063c31",
   "metadata": {},
   "outputs": [
    {
     "name": "stdout",
     "output_type": "stream",
     "text": [
      "Hi, M\n"
     ]
    }
   ],
   "source": [
    "f=open(\"input1.txt\",\"r\")\n",
    "data=f.read(5)\n",
    "print(data)\n",
    "f.close()\n"
   ]
  },
  {
   "cell_type": "code",
   "execution_count": null,
   "id": "91529b92",
   "metadata": {},
   "outputs": [
    {
     "name": "stdout",
     "output_type": "stream",
     "text": [
      "Hi, My name is Shruti\n",
      "\n",
      "I love coding\n"
     ]
    }
   ],
   "source": [
    "f=open(\"input1.txt\",\"r\")\n",
    "line1=f.readline()\n",
    "print(line1)\n",
    "line2=f.readline()\n",
    "print(line2)\n",
    "f.close()\n"
   ]
  },
  {
   "cell_type": "code",
   "execution_count": null,
   "id": "95d24c77",
   "metadata": {},
   "outputs": [],
   "source": [
    "f=open(\"input1.txt\",\"w\")\n",
    "f.write(\"I want to learn Python\")\n",
    "f.close()\n"
   ]
  },
  {
   "cell_type": "code",
   "execution_count": 25,
   "id": "2105aa4f",
   "metadata": {},
   "outputs": [],
   "source": [
    "f=open(\"input1.txt\",\"a\")\n",
    "f.write(\"\\nI want to learn C also\")\n",
    "data=f\n",
    "f.close()\n"
   ]
  },
  {
   "cell_type": "code",
   "execution_count": 26,
   "id": "017c1fac",
   "metadata": {},
   "outputs": [],
   "source": [
    "f=open(\"input2.txt\",\"w\")\n",
    "f.write(\"This file was never existed\")\n",
    "data=f\n",
    "f.close()"
   ]
  },
  {
   "cell_type": "code",
   "execution_count": 27,
   "id": "08d3b675",
   "metadata": {},
   "outputs": [],
   "source": [
    "f=open(\"input3.txt\",\"a\")\n",
    "f.write(\"This file was never existed\")\n",
    "data=f\n",
    "f.close()"
   ]
  },
  {
   "cell_type": "markdown",
   "id": "1644a37f",
   "metadata": {},
   "source": [
    "- \"r+\" = read + write, pointer at start.\n",
    "- \"w+\" = read + write, but erases file first.\n",
    "- \"a+\" = read + write, pointer at end (new content added at the end)."
   ]
  },
  {
   "cell_type": "code",
   "execution_count": 29,
   "id": "ea85a492",
   "metadata": {},
   "outputs": [
    {
     "name": "stdout",
     "output_type": "stream",
     "text": [
      "s file was never existed\n"
     ]
    }
   ],
   "source": [
    "f=open(\"input2.txt\",\"r+\")\n",
    "f.write(\"abc\")\n",
    "print(f.read())\n",
    "f.close()"
   ]
  },
  {
   "cell_type": "code",
   "execution_count": 30,
   "id": "3dcb8498",
   "metadata": {},
   "outputs": [
    {
     "name": "stdout",
     "output_type": "stream",
     "text": [
      "\n"
     ]
    }
   ],
   "source": [
    "f=open(\"input3.txt\",\"w+\")\n",
    "print(f.read())\n",
    "f.write(\"abc\")\n",
    "f.close()"
   ]
  },
  {
   "cell_type": "code",
   "execution_count": 31,
   "id": "a715fc29",
   "metadata": {},
   "outputs": [
    {
     "name": "stdout",
     "output_type": "stream",
     "text": [
      "\n"
     ]
    }
   ],
   "source": [
    "f=open(\"input3.txt\",\"a+\")\n",
    "print(f.read())\n",
    "f.write(\"abc\")\n",
    "f.close()"
   ]
  },
  {
   "cell_type": "markdown",
   "id": "0a78b700",
   "metadata": {},
   "source": [
    "with Syntax"
   ]
  },
  {
   "cell_type": "code",
   "execution_count": null,
   "id": "582e1a49",
   "metadata": {},
   "outputs": [
    {
     "name": "stdout",
     "output_type": "stream",
     "text": [
      "I want to learn Python\n",
      "I want to learn C also\n",
      "\n"
     ]
    }
   ],
   "source": [
    "with open(\"input1.txt\",\"r\") as f:\n",
    "    data=f.read()\n",
    "    print(data)\n",
    "    #This way we don’t need f.close().\n"
   ]
  },
  {
   "cell_type": "markdown",
   "id": "2ac9a1d9",
   "metadata": {},
   "source": [
    "## Problem Statement\n",
    "Liam is working on a Python script to merge the contents of two text files, \"input1.txt\" and \"input2.txt\", into a third file named \"input3.text\". \n",
    "\n",
    "Write a program to read the contents of the first two files, merge them to the third file, and then display the merged content to the console. "
   ]
  },
  {
   "cell_type": "code",
   "execution_count": 2,
   "id": "1aab4ee8",
   "metadata": {},
   "outputs": [
    {
     "name": "stdout",
     "output_type": "stream",
     "text": [
      "hello world\n"
     ]
    }
   ],
   "source": [
    "string1=input()\n",
    "string2=input()\n",
    "\n",
    "with open(\"input1.txt\",'w') as f1:\n",
    "    f1.write(string1)\n",
    "with open(\"input2.txt\",'w') as f2:\n",
    "    f2.write(string2)\n",
    "\n",
    "with open(\"input1.txt\",'r') as f1:\n",
    "    data1=f1.read()\n",
    "with open(\"input2.txt\",'r') as f2:\n",
    "    data2=f2.read()\n",
    "\n",
    "with open(\"input3.txt\",\"w\") as f3:\n",
    "    f3.write(data1+\" \"+data2)\n",
    "with open(\"input3.txt\",\"r\") as f3:\n",
    "    data3=f3.read()\n",
    "\n",
    "print(data3)\n",
    "\n"
   ]
  }
 ],
 "metadata": {
  "kernelspec": {
   "display_name": "Our_first_project",
   "language": "python",
   "name": "python3"
  },
  "language_info": {
   "codemirror_mode": {
    "name": "ipython",
    "version": 3
   },
   "file_extension": ".py",
   "mimetype": "text/x-python",
   "name": "python",
   "nbconvert_exporter": "python",
   "pygments_lexer": "ipython3",
   "version": "3.10.13"
  }
 },
 "nbformat": 4,
 "nbformat_minor": 5
}
