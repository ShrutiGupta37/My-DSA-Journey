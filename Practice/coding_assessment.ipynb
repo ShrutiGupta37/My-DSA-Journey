{
 "cells": [
  {
   "cell_type": "markdown",
   "id": "5a9a9e73",
   "metadata": {},
   "source": [
    "## QUESTION-1\n",
    "- Take rows (input1) and columns (input2).\n",
    "- Take a 2D array (input3).\n",
    "- A row is magical if the sum of odd numbers in that row is even.\n",
    "- Return the number of magical rows."
   ]
  },
  {
   "cell_type": "code",
   "execution_count": null,
   "id": "bfbe9edf",
   "metadata": {},
   "outputs": [
    {
     "name": "stdout",
     "output_type": "stream",
     "text": [
      "2\n"
     ]
    }
   ],
   "source": [
    "def magical(x):\n",
    "    if(x%2==0):\n",
    "        return 1\n",
    "    return 0\n",
    "    \n",
    "\n",
    "row = int(input(\"Enter rows: \"))\n",
    "col = int(input(\"Enter cols: \"))\n",
    "result=0\n",
    "\n",
    "matrix = [list(map(int, input().split())) for _ in range(row)]\n",
    "for i in range(row):\n",
    "    x=0\n",
    "    for j in range(col):\n",
    "        if(matrix[i][j]%2!=0):\n",
    "            x=x+matrix[i][j] \n",
    "    result=result+magical(x)\n",
    "print(result)\n",
    "\n",
    "# Enter rows: 3\n",
    "# Enter cols: 3\n",
    "# 1 2 3\n",
    "# 4 5 6\n",
    "# 7 8 9\n"
   ]
  },
  {
   "cell_type": "markdown",
   "id": "32415931",
   "metadata": {},
   "source": [
    "## QUESTION-2\n",
    "- You are given two integer arrays A and B, each of size N.\n",
    "- You can perform the following operation any number of times:\n",
    "- Swap any two elements in array A, or\n",
    "  Swap any two elements in array B.\n",
    "\n",
    "👉 This basically means you can rearrange (permute) both arrays in any order you want.\n",
    "- Your task is to find the minimum possible value of the sum:\n",
    "- after rearranging the arrays in the best possible way.\n",
    "S=A[0]×B[0]+A[1]×B[1]+⋯+A[N−1]×B[N−1]"
   ]
  },
  {
   "cell_type": "code",
   "execution_count": 2,
   "id": "b343d644",
   "metadata": {},
   "outputs": [
    {
     "name": "stdout",
     "output_type": "stream",
     "text": [
      "36\n"
     ]
    }
   ],
   "source": [
    "n=4\n",
    "A1=[2,3,4,5]\n",
    "A2=[1,7,2,3]\n",
    "\n",
    "sum=0\n",
    "A1.sort()\n",
    "A2.sort(reverse=True)\n",
    "for i in range(n):\n",
    "    sum=sum+A1[i]*A2[i]\n",
    "\n",
    "print(sum)"
   ]
  },
  {
   "cell_type": "markdown",
   "id": "4c3e4487",
   "metadata": {},
   "source": []
  }
 ],
 "metadata": {
  "kernelspec": {
   "display_name": "Our_first_project",
   "language": "python",
   "name": "python3"
  },
  "language_info": {
   "codemirror_mode": {
    "name": "ipython",
    "version": 3
   },
   "file_extension": ".py",
   "mimetype": "text/x-python",
   "name": "python",
   "nbconvert_exporter": "python",
   "pygments_lexer": "ipython3",
   "version": "3.10.13"
  }
 },
 "nbformat": 4,
 "nbformat_minor": 5
}
