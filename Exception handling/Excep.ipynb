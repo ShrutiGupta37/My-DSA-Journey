{
 "cells": [
  {
   "cell_type": "code",
   "execution_count": 2,
   "id": "f2bb7f10",
   "metadata": {},
   "outputs": [
    {
     "ename": "ValueError",
     "evalue": "invalid literal for int() with base 10: 'nitu'",
     "output_type": "error",
     "traceback": [
      "\u001b[1;31m---------------------------------------------------------------------------\u001b[0m",
      "\u001b[1;31mValueError\u001b[0m                                Traceback (most recent call last)",
      "Cell \u001b[1;32mIn[2], line 3\u001b[0m\n\u001b[0;32m      1\u001b[0m a\u001b[38;5;241m=\u001b[39m\u001b[38;5;28minput\u001b[39m(\u001b[38;5;124m\"\u001b[39m\u001b[38;5;124mEnter a number: \u001b[39m\u001b[38;5;124m\"\u001b[39m)\n\u001b[0;32m      2\u001b[0m \u001b[38;5;28;01mfor\u001b[39;00m i \u001b[38;5;129;01min\u001b[39;00m \u001b[38;5;28mrange\u001b[39m(\u001b[38;5;241m1\u001b[39m,\u001b[38;5;241m11\u001b[39m):\n\u001b[1;32m----> 3\u001b[0m     \u001b[38;5;28mprint\u001b[39m(\u001b[38;5;124mf\u001b[39m\u001b[38;5;124m\"\u001b[39m\u001b[38;5;132;01m{\u001b[39;00m\u001b[38;5;28mint\u001b[39m(a)\u001b[38;5;132;01m}\u001b[39;00m\u001b[38;5;124m x \u001b[39m\u001b[38;5;132;01m{\u001b[39;00mi\u001b[38;5;132;01m}\u001b[39;00m\u001b[38;5;124m = \u001b[39m\u001b[38;5;132;01m{\u001b[39;00m\u001b[38;5;28mint\u001b[39m(a)\u001b[38;5;250m \u001b[39m\u001b[38;5;241m*\u001b[39m\u001b[38;5;250m \u001b[39mi\u001b[38;5;132;01m}\u001b[39;00m\u001b[38;5;124m\"\u001b[39m)\n",
      "\u001b[1;31mValueError\u001b[0m: invalid literal for int() with base 10: 'nitu'"
     ]
    }
   ],
   "source": [
    "a=input(\"Enter a number: \") #when i pass an string let say \"hello\"\n",
    "for i in range(1,11):\n",
    "    print(f\"{int(a)} x {i} = {int(a) * i}\") #it throws an ValueError exception\n",
    "\n",
    "print(\"Some imp line of code\") #but i want to execute this part if the program thrwos error\n",
    "print(\"End of program\")\n",
    "\n"
   ]
  },
  {
   "cell_type": "markdown",
   "id": "7d1be802",
   "metadata": {},
   "source": [
    "| Term       | Meaning                                                                 |\n",
    "|------------|-------------------------------------------------------------------------|\n",
    "| Error      | A broader term for anything that goes wrong in a program.              |\n",
    "| Exception  | A specific type of error that can be caught and handled in code.       |\n"
   ]
  },
  {
   "cell_type": "code",
   "execution_count": 7,
   "id": "a54f10b9",
   "metadata": {},
   "outputs": [
    {
     "name": "stdout",
     "output_type": "stream",
     "text": [
      "invalid literal for int() with base 10: 'hello'\n",
      "Some imp line of code\n",
      "End of program\n"
     ]
    }
   ],
   "source": [
    "a=input(\"Enter a number: \") \n",
    "try:\n",
    "    for i in range(1,11):\n",
    "            print(f\"{int(a)} x {i} = {int(a) * i}\") \n",
    "except Exception as e:\n",
    "    print(e)\n",
    "print(\"Some imp line of code\") \n",
    "print(\"End of program\")\n",
    "\n"
   ]
  },
  {
   "cell_type": "markdown",
   "id": "cd70a39b",
   "metadata": {},
   "source": [
    "## What is an Exception?\n",
    "\n",
    "An exception is an error that occurs during the execution of a program. When Python encounters an error, it stops execution unless the error is handled.\n",
    "\n",
    "### Examples of exceptions:"
   ]
  },
  {
   "cell_type": "code",
   "execution_count": null,
   "id": "5b21d089",
   "metadata": {},
   "outputs": [],
   "source": [
    "print(10 / 0)          # ZeroDivisionError\n",
    "\n",
    "print(int(\"hello\"))    # ValueError\n",
    "\n",
    "my_list = [1, 2, 3]\n",
    "print(my_list[5])      # IndexError"
   ]
  },
  {
   "cell_type": "markdown",
   "id": "4227aaf1",
   "metadata": {},
   "source": [
    "### Why do we need Exception Handling?\n",
    "Exception handling allows us to:\n",
    "- Prevent the program from crashing\n",
    "- Handle errors gracefully\n",
    "- Provide meaningful messages to the user\n",
    "- Execute alternative code if an error occurs"
   ]
  },
  {
   "cell_type": "markdown",
   "id": "806eeb3d",
   "metadata": {},
   "source": [
    "## Handling Specific Exceptions"
   ]
  },
  {
   "cell_type": "code",
   "execution_count": 10,
   "id": "fcc840fc",
   "metadata": {},
   "outputs": [
    {
     "name": "stdout",
     "output_type": "stream",
     "text": [
      "Cannot divide by zero!\n"
     ]
    }
   ],
   "source": [
    "try:\n",
    "    a = 10 / 0\n",
    "except ZeroDivisionError:\n",
    "    print(\"Cannot divide by zero!\")\n"
   ]
  },
  {
   "cell_type": "markdown",
   "id": "115ed285",
   "metadata": {},
   "source": [
    "## You can handle multiple exceptions:"
   ]
  },
  {
   "cell_type": "code",
   "execution_count": null,
   "id": "211f60b1",
   "metadata": {},
   "outputs": [
    {
     "name": "stdout",
     "output_type": "stream",
     "text": [
      "Invalid conversion!\n"
     ]
    }
   ],
   "source": [
    "try:\n",
    "    a = int(\"abc\")\n",
    "except ValueError:\n",
    "    print(\"Invalid conversion!\")\n",
    "except ZeroDivisionError:\n",
    "    print(\"Division by zero!\")\n"
   ]
  },
  {
   "cell_type": "markdown",
   "id": "311e65ea",
   "metadata": {},
   "source": []
  }
 ],
 "metadata": {
  "kernelspec": {
   "display_name": "Python 3",
   "language": "python",
   "name": "python3"
  },
  "language_info": {
   "codemirror_mode": {
    "name": "ipython",
    "version": 3
   },
   "file_extension": ".py",
   "mimetype": "text/x-python",
   "name": "python",
   "nbconvert_exporter": "python",
   "pygments_lexer": "ipython3",
   "version": "3.10.0"
  }
 },
 "nbformat": 4,
 "nbformat_minor": 5
}
